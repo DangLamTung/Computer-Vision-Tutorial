{
 "cells": [
  {
   "cell_type": "markdown",
   "metadata": {},
   "source": [
    "# Computer vision cơ bản"
   ]
  },
  {
   "cell_type": "markdown",
   "metadata": {},
   "source": [
    "Chúng ta sẽ tiếp tục series Computer Vision này với bài tập về một số hàm, thuật toán cơ bản của OpenCV và một số ứng dụng đơn giản.\n"
   ]
  },
  {
   "cell_type": "markdown",
   "metadata": {},
   "source": [
    "## Một số hàm cơ bản của OpenCV"
   ]
  },
  {
   "cell_type": "markdown",
   "metadata": {},
   "source": [
    "Như ở bài trước, ta đã biết để load ảnh ta sử dụng openCV imread, ảnh trả về sẽ là một mảng numpy, tương tự với OpenCV C++, đối tượng trả về sẽ là đối tượng Mat, tức Matrix :3. Chắc các bạn cũng hiểu là xử lý ảnh nếu xét trên góc độ này chủ yếu là phép thao tác ma trận chứ :3. Và chúng ta cũng đã xem qua về phép Convolution, tức xét sơ qua về xử lý ảnh theo hướng xử lý tín hiệu số 2 chiều :3. Tuy nhiên thực tế OpenCV có quá nhiều hàm sẵn rồi, cài lại thuật toán là việc làm khá là không cần thiết lắm, vì vậy chúng ta sẽ đi qua các hàm có trong OpenCV.\n"
   ]
  },
  {
   "cell_type": "markdown",
   "metadata": {},
   "source": [
    "## 1. Các hàm lưu ảnh, đọc ảnh, lưu video, đọc video:"
   ]
  },
  {
   "cell_type": "markdown",
   "metadata": {},
   "source": [
    "### Hàm đọc ảnh:"
   ]
  },
  {
   "cell_type": "markdown",
   "metadata": {},
   "source": [
    "* Thực ra mấy cái này các bạn có thể tham khảo tài liệu của OpenCV cho nhanh =))) *"
   ]
  },
  {
   "cell_type": "markdown",
   "metadata": {},
   "source": [
    "Như bài trước ta đã dùng imread:\n",
    "\n",
    "Cú pháp (Syntax):\n",
    "\n"
   ]
  },
  {
   "cell_type": "code",
   "execution_count": 2,
   "metadata": {},
   "outputs": [],
   "source": [
    "import cv2\n",
    "import numpy as np\n",
    "\n",
    "img = cv2.imread('cat.jpg')"
   ]
  },
  {
   "cell_type": "markdown",
   "metadata": {},
   "source": [
    "Hàm này sẽ đọc một ảnh lưu thành một mảng numpy, chú ý hệ màu ở đây là BGR (blue - green -red) nên ở bài trước ta phải convert thành ảnh RGB, để đọc ảnh thành trắng đen ta làm như sau:\n"
   ]
  },
  {
   "cell_type": "code",
   "execution_count": 3,
   "metadata": {},
   "outputs": [],
   "source": [
    "img = cv2.imread('cat.jpg',0)"
   ]
  },
  {
   "cell_type": "markdown",
   "metadata": {},
   "source": [
    "### Hàm ghi ảnh"
   ]
  },
  {
   "cell_type": "markdown",
   "metadata": {},
   "source": [
    "Để có thể đi khoe kết quả xử lý ảnh vip pro, tất nhiên ta phải lưu được ảnh ròi =)) "
   ]
  },
  {
   "cell_type": "code",
   "execution_count": 4,
   "metadata": {},
   "outputs": [
    {
     "data": {
      "text/plain": [
       "True"
      ]
     },
     "execution_count": 4,
     "metadata": {},
     "output_type": "execute_result"
    }
   ],
   "source": [
    "cv2.imwrite('cat.jpg',img)"
   ]
  },
  {
   "attachments": {},
   "cell_type": "markdown",
   "metadata": {},
   "source": [
    "Ảnh đã được đọc, chuyển xám vào lưu lại:\n",
    "![image.png](./tut3/1.png)"
   ]
  },
  {
   "cell_type": "markdown",
   "metadata": {},
   "source": [
    "### Hàm đọc video:"
   ]
  },
  {
   "cell_type": "code",
   "execution_count": null,
   "metadata": {},
   "outputs": [],
   "source": [
    "cap = cv2.VideoCapture('./pedestrian.mp4')"
   ]
  },
  {
   "cell_type": "markdown",
   "metadata": {},
   "source": [
    "Hàm này có thể lấy cả nguồn từ webcam,các bạn có thể chọn 0 hoặc 1 tùy theo máy mình để mở webcam nhe :3\n",
    "\n",
    "Do bản chất của video là một chuỗi các ảnh nên vấn để đọc video ta cần phải dùng while. Do việc xử lý video trên jupyter khá là chuối nên ta sẽ dùng file .py để chạy :3 các bạn có thể dùng visual code hay bất kì cái gì để chạy code sau :3 (2020 rồi cài visual code với chỉnh setting.json để chạy vitrualenv phải làm được nhé :> ) "
   ]
  },
  {
   "cell_type": "code",
   "execution_count": null,
   "metadata": {},
   "outputs": [],
   "source": [
    "import cv2\n",
    "\n",
    "cap = cv2.VideoCapture('/path/to/video') \n",
    "\n",
    "while(True):\n",
    "    # Capture frame-by-frame\n",
    "    ret, frame = cap.read()\n",
    "\n",
    "    # Our operations on the frame come here\n",
    "    gray = cv2.cvtColor(frame, cv2.COLOR_BGR2GRAY)\n",
    "\n",
    "    # Display the resulting frame\n",
    "    cv2.imshow('frame',gray)\n",
    "    if cv2.waitKey(1) & 0xFF == ord('q'):\n",
    "        break\n",
    "\n",
    "# When everything done, release the capture\n",
    "cap.release()\n",
    "cv2.destroyAllWindows()"
   ]
  },
  {
   "cell_type": "markdown",
   "metadata": {},
   "source": [
    " Giải thích code:\n",
    " \n",
    " + cap là đối tượng VideoCapture của OpenCV, nó có tác dụng đọc video từ source. (Phần đối tượng sẽ có trong slide Python tiếp theo, cơ mà mình lười quá nên chưa làm xong :3 ). /path/to/video là đường dẫn tới video, các bạn cần tham khảo phần đường dẫn trực tiếp và gián tiếp (mình sẽ đưa vào slide python cơ bản tiếp theo).\n",
    " + Câu lệnh ret , frame = cap.read() sẽ đọc file video (hoặc lấy video từ webcam) để hiển thị ra màn hình, method (phương thức của đối tượng cap, bạn nào đã ngâm qua OOP sẽ hiểu ) trả về 2 giá trị, ret là giá trị độ lớn của frame ảnh và frame và mảng numpy. \n",
    " + Câu lệnh gray = ... là câu lệnh convert từ hệ màu BGR sang GRAY. \n",
    " + Câu lệnh cv2.imshow ... là câu lệnh để hiển thị frame đã xử lý lên màn hình.\n",
    " + Để có thể thoát khỏi màn vòng lặp while, chương trình cần nút chờ lệnh: câu lệnh if cv2.waitKey(1).. thực hiện điều này, và nó trả về một kí tự ASCII từ bàn phím. Trong trường hợp này là phím 'q' trên bàn phím. Nếu đúng như phím này được bấm nó sẽ break ra khỏi while.\n",
    " + Sau khi thoát ra, vì không biết là đang sử dụng webcam hay không nên ta cần phái release cap ra (nếu không webcam sẽ bị lock và không sử dụng được cho các ứng dụng khác).\n",
    " + Câu lệnh cuối chắc các bạn cũng hiều ròi :3 "
   ]
  },
  {
   "cell_type": "markdown",
   "metadata": {},
   "source": [
    "Dĩ nhiên là các bạn cũng có thể sử dụng những lệnh trên tùy ý để tạo thành GUI của OpenCV, tham khảo thêm ở:\n",
    "https://opencv-python-tutroals.readthedocs.io/en/latest/py_tutorials/py_gui/py_table_of_contents_gui/py_table_of_contents_gui.html"
   ]
  },
  {
   "cell_type": "markdown",
   "metadata": {},
   "source": [
    "### Lưu video:"
   ]
  },
  {
   "cell_type": "markdown",
   "metadata": {},
   "source": [
    "Khác với ảnh là ta chỉ cần imwrite, video có khá nhiều kiểu mã hóa, mp4, avi,... vậy nên hàm ghi video cũng có chút khác biệt:\n",
    "\n",
    "Để lưu video, ta tạo đối tượng VideoWriter_fourcc, fourcc là một chuẩn mã hóa (https://en.wikipedia.org/wiki/FourCC). Cú pháp như sau:\n",
    "\n",
    "fourcc = cv2.VideoWriter_fourcc(*'XVID')\n",
    "\n",
    "Trong đó tham số đưa vào có thể là\n",
    "\n",
    "\"In Fedora: DIVX, XVID, MJPG, X264, WMV1, WMV2. (XVID is more preferable. MJPG results in high size video. X264 gives very small size video)\n",
    "\n",
    "In Windows: DIVX (More to be tested and added)\n",
    "\n",
    "In OSX : (I don’t have access to OSX. Can some one fill this?)\"\n",
    "\n",
    "Tham khảo https://opencv-python-tutroals.readthedocs.io/en/latest/py_tutorials/py_gui/py_video_display/py_video_display.html)\n",
    "\n",
    "Sau đó ta tạo đối tượng VideoWriter:\n",
    "\n",
    "out = cv2.VideoWriter('output.avi',fourcc, 20.0, (640,480))\n",
    "\n",
    "+ output.avi là đường dẫn đến file lưu video \n",
    "+ fourcc là encode đã tạo \n",
    "+ 20.0 là fps để ghi video\n",
    "+ (640, 480) là tuple lưu kích thước video\n",
    "\n",
    "# Phần này các bạn tự test nhé :3\n"
   ]
  },
  {
   "cell_type": "markdown",
   "metadata": {},
   "source": [
    "## 2. Các thao tác trên ảnh"
   ]
  },
  {
   "cell_type": "markdown",
   "metadata": {},
   "source": [
    "Vì ảnh thực chất là các ma trận Numpy nên việc ta sử dụng các thao tác trên ma trận để vẽ vời là chuyện rất bình thường, như OpenCV có hàm mà, nên tội gì phải khổ :v"
   ]
  },
  {
   "cell_type": "markdown",
   "metadata": {},
   "source": [
    "### Hàm vẽ :"
   ]
  },
  {
   "cell_type": "markdown",
   "metadata": {},
   "source": [
    "Các hàm vẽ trong OpenCV là :"
   ]
  },
  {
   "cell_type": "code",
   "execution_count": 3,
   "metadata": {},
   "outputs": [
    {
     "data": {
      "image/png": "[encoded data removed]",
      "text/plain": [
       "<Figure size 432x288 with 1 Axes>"
      ]
     },
     "metadata": {
      "needs_background": "light"
     },
     "output_type": "display_data"
    }
   ],
   "source": [
    "\n",
    "# Create a black image\n",
    "img = np.zeros((512,512,3), np.uint8)\n",
    "\n",
    "cv2.line(img,(0,0),(511,511),(255,0,0),5)# Vẽ một đoạn thẳng 2 đầu là (511,511) và (0,0), màu (255,0,0) dày 5 pixel\n",
    "cv2.rectangle(img,(384,0),(510,128),(0,255,0),3)# Vẽ hình chữ nhật với điểm trái cao nhất là (384,0),\n",
    "#điểm phải dưới thấp nhất là (510,128) màu xanh lá, độ dày 3\n",
    "cv2.circle(img,(447,63), 63, (0,0,255), -1) # Vẽ đường tròn, tâm (447,63), màu đỏ , -1 là có fill\n",
    "\n",
    "#Vẽ gấp khúc (polygon)\n",
    "pts = np.array([[10,5],[20,30],[70,20],[50,10]], np.int32) #mảng numpy chứa các điểm của polygon\n",
    "pts = pts.reshape((-1,1,2)) # Đưa mảng về dạng đúng cho hàm\n",
    "cv2.polylines(img,[pts],True,(0,255,255)) # Vẽ polygon\n",
    "#Ghi chữ\n",
    "font = cv2.FONT_HERSHEY_SIMPLEX #chọn font, font có trong cv2 luôn thì đỡ conflict\n",
    "cv2.putText(img,'OpenCV',(10,500), font, 4,(255,255,255),2,cv2.LINE_AA)\n",
    "# Theo thứ tự : hình cần ghi, text cần ghi, vị trí bắt đầu, font, độ dày, màu, tỉ lệ font, dạng đường vẽ\n",
    "from matplotlib import pyplot as plt\n",
    "plt.imshow(img)\n",
    "plt.title(\"Test\")\n",
    "plt.show()"
   ]
  },
  {
   "cell_type": "markdown",
   "metadata": {},
   "source": [
    "Các bạn tìm hiểu thêm ở: https://docs.opencv.org/master/dc/da5/tutorial_py_drawing_functions.html"
   ]
  },
  {
   "cell_type": "markdown",
   "metadata": {},
   "source": [
    "## ROI (Region of Interest)"
   ]
  },
  {
   "cell_type": "markdown",
   "metadata": {},
   "source": [
    "ROI là vùng quan tâm, tức khu vực ta muốn xử lý, như các bạn đã biết thì ngày này ảnh full HD (có che :)) ) có kích thước là 1920 * 1080, và các thuật toán xử lý ảnh hầu như đều O(n^2) trở lên :> (là rất phức tạp đó) chưa kể đến neural network nó còn xử lý hàng nhiều nữa, thế nên thu gọn ảnh là khá cần thiết.\n",
    "\n",
    "Cách làm thì đơn giản là xài cách cắt mảng numpy thôi.\n",
    "\n",
    "Ngoài ra còn các phép quay, thêm padding,... cơ mà mình nghĩ đến đây là tạm ổn, các bạn có thể tham khảo thêm trong doc OpenCV"
   ]
  },
  {
   "cell_type": "code",
   "execution_count": 6,
   "metadata": {},
   "outputs": [
    {
     "data": {
      "image/png": "[encoded data removed]",
      "text/plain": [
       "<Figure size 432x288 with 1 Axes>"
      ]
     },
     "metadata": {
      "needs_background": "light"
     },
     "output_type": "display_data"
    }
   ],
   "source": [
    "ROI = img[10:20,0:100]\n",
    "plt.imshow(ROI)\n",
    "plt.title(\"Test\")\n",
    "plt.show()"
   ]
  },
  {
   "cell_type": "markdown",
   "metadata": {},
   "source": [
    "## Phép toán bitwise trên ảnh"
   ]
  },
  {
   "cell_type": "markdown",
   "metadata": {},
   "source": [
    "*Tham khảo ở https://pysource.com/2018/01/29/bitwise-operators-opencv-3-4-with-python-3-tutorial-7/"
   ]
  },
  {
   "cell_type": "markdown",
   "metadata": {},
   "source": [
    "Phép Bitwise trong ảnh phần nào cũng giống phép bitwise ta đã học với vi điều khiển, mục đích của phép này là khi sử dụng ta có thể tạo ra một \"mặt nạ\" rồi sau đó để tách vùng đã chọn ra."
   ]
  },
  {
   "cell_type": "markdown",
   "metadata": {},
   "source": [
    "# 3 Hệ màu của ảnh, convert hệ màu, dò màu"
   ]
  },
  {
   "cell_type": "markdown",
   "metadata": {},
   "source": [
    "Trong xử lý ảnh, người ta thường dùng các hệ màu như binary, RGB, BGR, hay HSV, mỗi hệ màu lại có ưu và nhược điểm khác nhau, ta sẽ nói đến chúng trong bài này."
   ]
  },
  {
   "attachments": {},
   "cell_type": "markdown",
   "metadata": {},
   "source": [
    "Hệ màu RGB:\n",
    "![image.png](./tut3/2.png)\n",
    "Hệ màu này phổ biến nhất, được sử dụng rất nhiều trong máy tính, ảnh, phim...."
   ]
  },
  {
   "attachments": {},
   "cell_type": "markdown",
   "metadata": {},
   "source": [
    "Hệ màu HSV\n",
    "\n",
    "Không gian màu HSB, còn gọi là không gian màu HSV, là một không gian màu dựa trên ba số liệu:\n",
    "\n",
    "H: (Hue) Vùng màu\n",
    "    \n",
    "S (Saturation) Độ bão hòa màu\n",
    "    \n",
    "B (hay V): (Bright hay Value)Độ sáng\n",
    "\n",
    "\n",
    "Ưu điểm của hệ màu này là giá trị màu là 1 giá trị, và nằm trên một hình tròn, còn các giá trị độ sáng và độ bão hòa sẽ thay đổi với S và V, do đó màu sắc trong hệ HSV sẽ ít bị thay đổi do độ sáng hơn RGB\n",
    "\n",
    "(trích wiki)\n",
    "\n",
    "![image.png](tut3/3.png)\n",
    "Theo mình nhận xét thì hệ màu này ít nhạy cảm với sự thay đổi ánh sáng hơn là RGB."
   ]
  },
  {
   "attachments": {},
   "cell_type": "markdown",
   "metadata": {},
   "source": [
    "Hệ màu xám (grayscale) \n",
    "![image.png](tut3/4.png)\n",
    "Ưu điểm là tạo ra cảm giác vintage (đùa thôi :> ) và hơn nữa là nhanh hơn do chỉ cần phải xử lý 1 layer ảnh thay vì 3 layer"
   ]
  },
  {
   "cell_type": "markdown",
   "metadata": {},
   "source": [
    "Để chuyển hệ màu:"
   ]
  },
  {
   "cell_type": "code",
   "execution_count": 5,
   "metadata": {},
   "outputs": [
    {
     "name": "stdout",
     "output_type": "stream",
     "text": [
      "[102 102 102]\n",
      "[  0   0 102]\n",
      "102\n"
     ]
    }
   ],
   "source": [
    "import cv2 \n",
    "img = cv2.imread('cat.jpg')\n",
    "print(img[23,167,:])\n",
    "\n",
    "hsv = cv2.cvtColor(img, cv2.COLOR_BGR2HSV)\n",
    "print(hsv[23,167,:])\n",
    "\n",
    "gray = cv2.cvtColor(img, cv2.COLOR_BGR2GRAY)\n",
    "print(gray[23,167])"
   ]
  },
  {
   "cell_type": "markdown",
   "metadata": {},
   "source": [
    "## Lấy ngưỡng ảnh "
   ]
  },
  {
   "cell_type": "markdown",
   "metadata": {},
   "source": [
    "Để thực hiện dò theo màu, ta thường dùng hệ màu HSV do ưu điểm của nó là đỡ nhạy cảm với ánh sáng hơn (thực ra theo kinh nghiệm của mình thì cũng củ chuối lắm :))) ), ta có thể lấy giới hạn màu ở một điểm nào đó và so sánh với ngưỡng đó, cái này hoàn toàn có thể cài lại bằng numpy, cơ mà ta sẽ xài hàm cho nhanh:"
   ]
  },
  {
   "cell_type": "markdown",
   "metadata": {},
   "source": [
    "Cú pháp:\n",
    "\n",
    "threshold = cv2.inRange(frame_HSV, (low_H, low_S, low_V), (high_H, high_S, high_V))\n",
    "\n",
    "Như các bạn đã biết thì một pixel HSV cũng có 3 giá trị HSV, nên lấy ngưỡng cao và thấp sẽ do một tuple đưa vào hàm\n",
    "\n",
    "Giá trị trả về là frame ảnh trong đó phần màu đã được tách ra theo dạng binary"
   ]
  },
  {
   "cell_type": "markdown",
   "metadata": {},
   "source": [
    "Một ví dụ về sử dụng hệ màu HSV để dò màu:"
   ]
  },
  {
   "cell_type": "code",
   "execution_count": null,
   "metadata": {},
   "outputs": [],
   "source": [
    "import cv2 as cv\n",
    "import numpy as np\n",
    "cap = cv.VideoCapture(0)\n",
    "while(1):\n",
    "    # Take each frame\n",
    "    _, frame = cap.read()\n",
    "    # Convert BGR to HSV\n",
    "    hsv = cv.cvtColor(frame, cv.COLOR_BGR2HSV)\n",
    "    # define range of blue color in HSV\n",
    "    lower_blue = np.array([110,50,50])\n",
    "    upper_blue = np.array([130,255,255])\n",
    "    # Threshold the HSV image to get only blue colors\n",
    "    mask = cv.inRange(hsv, lower_blue, upper_blue)\n",
    "   \n",
    "    res = cv.bitwise_and(frame,frame, mask= mask) # Phép bitwise and này để lấy phần có màu\n",
    "    cv.imshow('frame',frame)\n",
    "    cv.imshow('mask',mask)\n",
    "    cv.imshow('res',res)\n",
    "    k = cv.waitKey(5) & 0xFF\n",
    "    if k == 27:\n",
    "        break\n",
    "cv.destroyAllWindows()"
   ]
  },
  {
   "attachments": {},
   "cell_type": "markdown",
   "metadata": {},
   "source": [
    "![image.png](tut3/5.png)\n",
    "\n",
    " * Copy ra một file python và chạy nhé :3 VideoCapture(0) nên chuẩn bị ngắm mặt mình trong webcam đi :v \""
   ]
  },
  {
   "cell_type": "markdown",
   "metadata": {},
   "source": [
    "Trong thực tế mà nói thì mình ít khi nào mà thấy dò màu mà mò ra đúng màu, môi trường cũng là vấn đề quan trọng, môi trường mà có màu gần giống thì cũng khá căng thẳng :3, vì vậy có 2 cách giải quyết đề xuất cho xử lý màu: Sử dụng ROI hoặc là sử dụng GUI tìm ngưỡng, hoặc lấy giá trị màu tại một pixel đề dò, cách giải quyết bằng bar track như ở ví dụ sau (lưu ý là cop hết ra file python nha):"
   ]
  },
  {
   "cell_type": "markdown",
   "metadata": {},
   "source": [
    "Khai báo các hàm, biến cần thiết"
   ]
  },
  {
   "cell_type": "code",
   "execution_count": null,
   "metadata": {},
   "outputs": [],
   "source": [
    "import cv2 as cv\n",
    "import argparse\n",
    "max_value = 255\n",
    "max_value_H = 360//2\n",
    "low_H = 0\n",
    "low_S = 0\n",
    "low_V = 0\n",
    "high_H = max_value_H\n",
    "high_S = max_value\n",
    "high_V = max_value\n",
    "window_capture_name = 'Video Capture'\n",
    "window_detection_name = 'Object Detection'\n",
    "low_H_name = 'Low H'\n",
    "low_S_name = 'Low S'\n",
    "low_V_name = 'Low V'\n",
    "high_H_name = 'High H'\n",
    "high_S_name = 'High S'\n",
    "high_V_name = 'High V'"
   ]
  },
  {
   "cell_type": "markdown",
   "metadata": {},
   "source": [
    "Dưới đây là các hàm tạo đối tượng trackbar, có 6 hàm cho 6 mức của HSV cao thấp của HSV:"
   ]
  },
  {
   "cell_type": "code",
   "execution_count": null,
   "metadata": {},
   "outputs": [],
   "source": [
    "def on_low_H_thresh_trackbar(val):\n",
    "    global low_H\n",
    "    global high_H\n",
    "    low_H = val\n",
    "    low_H = min(high_H-1, low_H)\n",
    "    cv.setTrackbarPos(low_H_name, window_detection_name, low_H)\n",
    "def on_high_H_thresh_trackbar(val):\n",
    "    global low_H\n",
    "    global high_H\n",
    "    high_H = val\n",
    "    high_H = max(high_H, low_H+1)\n",
    "    cv.setTrackbarPos(high_H_name, window_detection_name, high_H)\n",
    "def on_low_S_thresh_trackbar(val):\n",
    "    global low_S\n",
    "    global high_S\n",
    "    low_S = val\n",
    "    low_S = min(high_S-1, low_S)\n",
    "    cv.setTrackbarPos(low_S_name, window_detection_name, low_S)\n",
    "def on_high_S_thresh_trackbar(val):\n",
    "    global low_S\n",
    "    global high_S\n",
    "    high_S = val\n",
    "    high_S = max(high_S, low_S+1)\n",
    "    cv.setTrackbarPos(high_S_name, window_detection_name, high_S)\n",
    "def on_low_V_thresh_trackbar(val):\n",
    "    global low_V\n",
    "    global high_V\n",
    "    low_V = val\n",
    "    low_V = min(high_V-1, low_V)\n",
    "    cv.setTrackbarPos(low_V_name, window_detection_name, low_V)\n",
    "def on_high_V_thresh_trackbar(val):\n",
    "    global low_V\n",
    "    global high_V\n",
    "    high_V = val\n",
    "    high_V = max(high_V, low_V+1)\n",
    "    cv.setTrackbarPos(high_V_name, window_detection_name, high_V)"
   ]
  },
  {
   "cell_type": "markdown",
   "metadata": {},
   "source": [
    "Tạo đối tượng video capture, các bạn có thể lấy video mãu hoặc webcam tùy ý, sau đó các hàm cv.createTrackbar sẽ thêm từng trackbar vào cửa sổ OpenCV đã tạo (phần dò cạnh các bạn cũng có thể thực hiện như trên)"
   ]
  },
  {
   "cell_type": "code",
   "execution_count": null,
   "metadata": {},
   "outputs": [],
   "source": [
    "cap = cv.VideoCapture(0)\n",
    "cv.namedWindow(window_capture_name)\n",
    "cv.namedWindow(window_detection_name)\n",
    "cv.createTrackbar(low_H_name, window_detection_name , low_H, max_value_H, on_low_H_thresh_trackbar)\n",
    "cv.createTrackbar(high_H_name, window_detection_name , high_H, max_value_H, on_high_H_thresh_trackbar)\n",
    "cv.createTrackbar(low_S_name, window_detection_name , low_S, max_value, on_low_S_thresh_trackbar)\n",
    "cv.createTrackbar(high_S_name, window_detection_name , high_S, max_value, on_high_S_thresh_trackbar)\n",
    "cv.createTrackbar(low_V_name, window_detection_name , low_V, max_value, on_low_V_thresh_trackbar)\n",
    "cv.createTrackbar(high_V_name, window_detection_name , high_V, max_value, on_high_V_thresh_trackbar)"
   ]
  },
  {
   "cell_type": "markdown",
   "metadata": {},
   "source": [
    " Đến đây là phần chương trình chính, phần này sẽ chạy một vòng lặp while để lấy ảnh từ cam hoặc file. \n",
    " \n",
    "\n",
    "Câu lệnh cv.imshow(window_capture_name, frame) sẽ hiển thị ảnh\n",
    "\n",
    "Câu lệnh cv.imshow(window_detection_name, frame_threshold) sẽ hiển thị mấy cái trackbar để chọn ngưỡng, ngưỡng này sẽ được cập nhật liên tục vào các biến toàn cục low_H, low_S,..."
   ]
  },
  {
   "cell_type": "code",
   "execution_count": null,
   "metadata": {},
   "outputs": [],
   "source": [
    "while True:\n",
    "    \n",
    "    ret, frame = cap.read()\n",
    "    if frame is None:\n",
    "        break\n",
    "    frame_HSV = cv.cvtColor(frame, cv.COLOR_BGR2HSV)\n",
    "    frame_threshold = cv.inRange(frame_HSV, (low_H, low_S, low_V), (high_H, high_S, high_V))\n",
    "    \n",
    "    \n",
    "    cv.imshow(window_capture_name, frame)\n",
    "    cv.imshow(window_detection_name, frame_threshold)\n",
    "    \n",
    "    key = cv.waitKey(30)\n",
    "    if key == ord('q') or key == 27:\n",
    "        break"
   ]
  },
  {
   "cell_type": "markdown",
   "metadata": {},
   "source": [
    "Tham khảo thêm ở https://docs.opencv.org/master/da/d97/tutorial_threshold_inRange.html"
   ]
  },
  {
   "cell_type": "markdown",
   "metadata": {},
   "source": [
    "## 4 Edge Detection và contour "
   ]
  },
  {
   "attachments": {},
   "cell_type": "markdown",
   "metadata": {},
   "source": [
    "Thuật toán phát hiện cạnh CannyEdge là thuật toán tiếp theo ta sẽ nói tới.\n",
    "\n",
    "Ở bài trước ta đac nói về toán tử Sobel, toán tử này có tác dụng tính đạo hàm của ảnh theo 2 trục x và y,sau đó thuật toán này tính đạo hàm theo x và y như sau:\n",
    "\n",
    "$Edge\\_Gradient \\; (G) = \\sqrt{G_x^2 + G_y^2} \\\\ Angle \\; (\\theta) = \\tan^{-1} \\bigg(\\frac{G_y}{G_x}\\bigg)$\n",
    "\n",
    "Từ cạnh và góc này, ta có thể vẽ ra được cạnh của các đối tượng trong ảnh.\n",
    "\n",
    "Thuật toán CannyEdge được có thêm các bước như:\n",
    "\n",
    "+ Giảm nhiễu bằng Gaussian Filter\n",
    "+ Tìm độ lớn và hướng của đạo hàm ảnh (Sober)\n",
    "+ Loại bỏ các pixel có tính đạo hàm mà không phải là lớn nhất:\n",
    "![image.png](tut3/6.png)\n",
    "Như hình này, việc kiểm tra sẽ được tiến hành giữa các pixel A, B, C sao cho có thể tìm được cực đại địa phương (tức cái giá trị đạo hàm lớn nhất, tương ứng với cạnh của vật thể trong ảnh), các gía trị còn lại được cho bằng 0.\n",
    "+ Bước cuối chúng ta sẽ chọn 2 giá trị max_val và min_val để chọn ra cạnh nào có độ lớn đạo hàm > max_val sẽ được cho là cạnh đúng, còn nếu < min_val là cạnh chắc chắn không đúng, cạnh ở giữa 2 khoảng này nếu nối vào cạnh đúng sẽ được cho là cạnh đúng, còn không sẽ bị bỏ\n",
    "\n",
    "*Chú ý: CannyEdge hoạt động tốt nhất khi mà ảnh là ảnh xám (gray)"
   ]
  },
  {
   "attachments": {},
   "cell_type": "markdown",
   "metadata": {},
   "source": [
    "![image.png](tut3/7.png)\n",
    "\n",
    "Ở ví dụ này cạnh A là một cạnh đúng do độ lớn đạo hàm (intensity) lớn hơn max_val nên là một cạnh, cạnh C lại bé hơn max_val nhưng nối với A nên vẫn là cạnh đúng, còn B bị bỏ do nằm giữa 2 giá trị max, min\n",
    "\n",
    "Lý thuyết là vậy, cơ mà thực hành thì chỉ cần 1 câu lệnh:"
   ]
  },
  {
   "cell_type": "code",
   "execution_count": 20,
   "metadata": {},
   "outputs": [
    {
     "data": {
      "image/png": "[encoded data removed]",
      "text/plain": [
       "<Figure size 432x288 with 2 Axes>"
      ]
     },
     "metadata": {},
     "output_type": "display_data"
    }
   ],
   "source": [
    "img = cv2.imread('cat.jpg',0)\n",
    "\n",
    "edges = cv2.Canny(img,100,150) #image, min_val, max_val\n",
    "plt.subplot(121),plt.imshow(img,cmap = 'gray')\n",
    "plt.title('Original Image'), plt.xticks([]), plt.yticks([])\n",
    "plt.subplot(122),plt.imshow(edges,cmap = 'gray')\n",
    "plt.title('Edge Image'), plt.xticks([]), plt.yticks([])\n",
    "plt.show()"
   ]
  },
  {
   "cell_type": "markdown",
   "metadata": {},
   "source": [
    "Như các bạn có thể thấy, với các bức hình có chi tiết sắc nét thì hình sẽ khá khó xác định được cạnh chính, do đó việc sử dụng các thuật toán smoothing ảnh rất quan trọng, trong đó các bộ lọc Gaussian, Median,... sẽ được đề cập đến trong phần sau."
   ]
  },
  {
   "cell_type": "markdown",
   "metadata": {},
   "source": [
    "Tham khảo: https://docs.opencv.org/trunk/da/d22/tutorial_py_canny.html"
   ]
  },
  {
   "cell_type": "markdown",
   "metadata": {},
   "source": [
    "## Contour của ảnh "
   ]
  },
  {
   "cell_type": "markdown",
   "metadata": {},
   "source": [
    "Contour là đường đồng mức, tức các đường có cùng một đặc điểm nào đó, ví dụ như trên cùng một cạnh, cùng màu,... hàm contour của OpenCV sẽ nối các điểm đó lại với nhau, từ đó ta có thể sử dụng chúng cho các công việc như tracking, object detection,...\n",
    "\n",
    "Hàm contour có cú pháp:\n",
    "\n",
    "im2, contours, hierarchy = cv2.findContours(image, cv2.RETR_TREE, cv2.CHAIN_APPROX_SIMPLE) (openCV <4.2)\n",
    "\n",
    "+ Hàm trả về hình đã được tìm contour (im2), danh sách contour (contours), liên hệ giữa các thành phần của contour (hierarchy)\n",
    "\n",
    "Với OpenCV mới nhất chỉ có 2 giá trị trả về là contours, hierarchy"
   ]
  },
  {
   "attachments": {},
   "cell_type": "markdown",
   "metadata": {},
   "source": [
    "Vì Contour là một chức năng rất hữu ích nên các hàm đi kèm nó cũng có rất nhiều:\n",
    "\n",
    "Hàm vẽ contour đã tìm được:\n",
    "\n",
    "Cú pháp: cv2.drawContours(img, cnt, -1, (0, 255, 0), 2) \n",
    " + img: ảnh cần vẽ contour\n",
    " + cnt: tập contour cần vẽ\n",
    " + -1: số thứ tự contour cần vẽ, trong trường hợp = -1 là vẽ hết\n",
    " + (0,255,0): màu của contour cần vẽ\n",
    " + 2: độ dày đường vẽ của contour\n",
    "\n",
    "Hàm tìm bao lồi (Convex Hull cái này chắc bạn nào học lý thuyết đồ thị chắc đã biết)\n",
    "\n",
    "hull = cv.convexHull(cnt)\n",
    "\n",
    "+ cnt là contour đưa vào hàm, hull trả về các điểm lồi lõm của hull\n",
    "\n",
    "![image.png](tut3/8.png)\n",
    "*Hình này có gợi ý các bạn Hull để làm gì không :)))\n",
    "\n",
    "## Bài tập nho nhỏ: xài Convex Hull với dò màu + Canny để đếm số ngón tay :v (Code mạng khá nhiều, mình nhớ hồi xưa học thì bài này là một trong những bài đầu tiên mình làm)\n"
   ]
  },
  {
   "cell_type": "markdown",
   "metadata": {},
   "source": [
    "Vẽ đường bao cho Contour:\n",
    "\n",
    "Vẽ hình chữ nhật bao quanh:\n",
    "Cú pháp: x,y,w,h = cv2.boundingRect(cnt)\n",
    "\n",
    "x,y,w,h trong đó x, y là điểm bắt đầu của hình chữ nhật, w, h là dài và rộng của hình chữ nhật, giải thích bằng cách vẽ như sau:\n",
    "\n",
    "cv2.rectangle(img,(x,y),(x+w,y+h),(0,255,0),2)\n",
    "\n",
    "Vẽ hình tròn bao quanh:\n",
    "Cú pháp:\n",
    "\n",
    "(x,y),radius = cv2.minEnclosingCircle(cnt) # Đưa contour vào, lấy ra tâm và bán kính (float)\n",
    "\n",
    "center = (int(x),int(y))                   # nên phải có cái bước này để đổi điểm về int\n",
    "\n",
    "radius = int(radius) \n",
    "\n",
    "cv2.circle(img,center,radius,(0,255,0),2)\n",
    "\n",
    "*Chú ý: điểm đưa vào cho hàm vẽ hình tròn là tuple*\n",
    "\n",
    "*Chú ý: trong nhiều trường hợp gặp nhiễu, các xử lý với contour thường là chọn ROI, và chọn contour lớn nhất*"
   ]
  },
  {
   "cell_type": "markdown",
   "metadata": {},
   "source": [
    "Các bạn có thể tham khảo thêm ở đây: https://docs.opencv.org/master/dd/d49/tutorial_py_contour_features.html"
   ]
  },
  {
   "cell_type": "code",
   "execution_count": 29,
   "metadata": {},
   "outputs": [
    {
     "data": {
      "image/png": "[encoded data removed]",
      "text/plain": [
       "<Figure size 432x288 with 2 Axes>"
      ]
     },
     "metadata": {},
     "output_type": "display_data"
    }
   ],
   "source": [
    "img = cv2.imread('balloon.jpg')\n",
    "img = cv2.cvtColor(img,cv2.COLOR_BGR2RGB)\n",
    "gray = cv2.cvtColor(img,cv2.COLOR_RGB2GRAY)\n",
    "canny = cv2.Canny(gray, 127, 255) # Thực hiện canny edge\n",
    "cnt, h = cv2.findContours(canny, cv2.RETR_TREE, cv2.CHAIN_APPROX_SIMPLE)\n",
    "\n",
    "cv2.drawContours(img_after, cnt, -1, (0, 255, 0), 2)\n",
    "\n",
    "plt.subplot(121),plt.imshow(img,cmap = 'gray')\n",
    "plt.title('Original Image'), plt.xticks([]), plt.yticks([])\n",
    "plt.subplot(122),plt.imshow(img_after,cmap = 'gray')\n",
    "plt.title('After Image'), plt.xticks([]), plt.yticks([])\n",
    "plt.show()"
   ]
  },
  {
   "cell_type": "markdown",
   "metadata": {},
   "source": [
    "## 6 Một số bộ lọc ảnh \n",
    "\n",
    "Nếu xét trên phương diện tín hiệu thì ảnh số là một tín hiệu 2 chiều, do đó ta cũng có thể sử dụng các phương pháp của xử lý số tín hiệu để xử lý ảnh như các bộ lọc nhiễu (các bạn có thể đọc thêm xử lý số tín hiệu để biết thêm), việc chứng minh những kết quả này không cần thiết, ta ứng dụng đã :v"
   ]
  },
  {
   "attachments": {
    "image.png": {
     "image/png": "[encoded data removed]"
    }
   },
   "cell_type": "markdown",
   "metadata": {},
   "source": [
    "### Bộ lọc trung bình\n",
    "\n",
    "Bộ lọc trung bình sử dụng một kernel Convolution như sau để thực hiện:\n",
    "\n",
    "$K = \\frac{1}{9} \\begin{bmatrix} 1 & 1 & 1 \\\\ 1 & 1 & 1 \\\\ 1 & 1 & 1 \\end{bmatrix}$\n",
    "\n",
    "Phép convolution này là phép lấy trung bình cho một ô 3 * 3\n",
    "\n",
    "Câu lệnh:\n",
    "\n",
    "blur = cv.blur(img,(5,5))\n",
    "\n",
    "### Bộ lọc Gaussian\n",
    "\n",
    "Đây là một bộ lọc rất phổ biến và có tính ứng dụng cao, là phép convolution hàm phân phối Gaussian (phân phối chuẩn) với ảnh:\n",
    "\n",
    "![image.png](attachment:image.png)\n",
    "*Hàm phân phối Gaussian 2 chiều*\n",
    "\n",
    "Câu lệnh:\n",
    "\n",
    "blur = cv.GaussianBlur(img,(5,5),0) #kernel 5 * 5, kiểu ranh giới cho convolution"
   ]
  },
  {
   "cell_type": "markdown",
   "metadata": {},
   "source": [
    "Ngoài ra còn các chủ đề như xử lý hình thái ảnh, các thuật toán Threshold, thuật toán xác định đường thẳng Hough Line mà mình chưa đề cập, các bạn có thể tự đọc và tham khảo. Bài tiếp theo sẽ giới thiệu sơ qua về machine learning, deep learning trong xử lý ảnh, sẽ là một bài khá hard core và cũng là 1 (hoặc 2 nếu dài quá) của series này :3"
   ]
  },
  {
   "cell_type": "markdown",
   "metadata": {},
   "source": [
    "## Bài tập: mình có đính kèm video quả banh, các bạn hãy kết hợp lọc màu, canny và contour để xác định vị trí tâm của quả cầu nhé :3 "
   ]
  },
  {
   "cell_type": "markdown",
   "metadata": {},
   "source": [
    "Tham khảo một số code:\n",
    "    \n",
    "Nhận dạng tay, có sử dụng nhận diện khuôn mặt để lấy màu tay: https://medium.com/@soffritti.pierfrancesco/handy-hands-detection-with-opencv-ac6e9fb3cec1\n",
    "\n",
    "Ball tracking OpenCV: https://www.pyimagesearch.com/2015/09/14/ball-tracking-with-opencv/\n",
    "        "
   ]
  },
  {
   "cell_type": "markdown",
   "metadata": {},
   "source": [
    "# Các tài liệu này được soạn theo tài liệu của OpenCV và một số blog trên mạng"
   ]
  }
 ],
 "metadata": {
  "kernelspec": {
   "display_name": ".venv",
   "language": "python",
   "name": ".venv"
  },
  "language_info": {
   "codemirror_mode": {
    "name": "ipython",
    "version": 3
   },
   "file_extension": ".py",
   "mimetype": "text/x-python",
   "name": "python",
   "nbconvert_exporter": "python",
   "pygments_lexer": "ipython3",
   "version": "3.6.9"
  }
 },
 "nbformat": 4,
 "nbformat_minor": 4
}
