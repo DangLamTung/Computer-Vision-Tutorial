{
 "cells": [
  {
   "cell_type": "markdown",
   "metadata": {},
   "source": [
    "# Python cơ bản"
   ]
  },
  {
   "cell_type": "markdown",
   "metadata": {},
   "source": [
    "Python là một ngôn ngữ thông dịch (tức Python sử dụng trình thông dịch để thực thi từng câu lệnh thay vì biên dịch toàn bộ code), được thiết kế với triết lý đơn giản, dễ học với mọi người, cú pháp của Python rất đơn giản.\n",
    "\n",
    "Khác với các ngôn ngữ khác, Python không có dấu chấm phẩy, mỗi câu lệnh là một dòng, còn những câu lệnh for, while được giới hạn bằng 4 dấu cách (space) hoặc 1 phím Tab:\n",
    "\n",
    "Để chạy code trên Jupyter Notebook, các bạn chọn Cell (khung) mình cần chạy và nhấn nút Run, kết quả chạy sẽ hiện ra cho các bạn.\n",
    "\n",
    "*Lưu ý: Python là một ngôn ngữ hướng đối tượng, mọi đối kiều dữ liệu trong Python đều là các Object."
   ]
  },
  {
   "cell_type": "markdown",
   "metadata": {},
   "source": [
    "Ví dụ 1: một câu lệnh Python, ví dụ này thể hiện bản chất ngôn ngữ thông dịch của Python"
   ]
  },
  {
   "cell_type": "code",
   "execution_count": 1,
   "metadata": {},
   "outputs": [
    {
     "data": {
      "text/plain": [
       "2"
      ]
     },
     "execution_count": 1,
     "metadata": {},
     "output_type": "execute_result"
    }
   ],
   "source": [
    "1+1 #Để comment trong Python các bạn dùng dấu \"#\""
   ]
  },
  {
   "cell_type": "markdown",
   "metadata": {},
   "source": [
    "Ví dụ 2: Khai báo biến Python, Python không cần phải khai báo rõ ràng kiểu biến, theo mình điều này không hay lắm cho các dự án lớn, biến được khai báo sẽ được lưu vào môi trường của Python"
   ]
  },
  {
   "cell_type": "code",
   "execution_count": 2,
   "metadata": {},
   "outputs": [],
   "source": [
    "a = 1"
   ]
  },
  {
   "cell_type": "code",
   "execution_count": 3,
   "metadata": {},
   "outputs": [
    {
     "data": {
      "text/plain": [
       "1"
      ]
     },
     "execution_count": 3,
     "metadata": {},
     "output_type": "execute_result"
    }
   ],
   "source": [
    "a"
   ]
  },
  {
   "cell_type": "markdown",
   "metadata": {},
   "source": [
    "Ví dụ 3: Câu lệnh in trong Python 3\n",
    "+ Câu lệnh đầu in 1 số\n",
    "+ Câu 2 in một số\n",
    "+ Câu 3 in số và chữ, số 11 được ép kiểu sang chuỗi"
   ]
  },
  {
   "cell_type": "code",
   "execution_count": 4,
   "metadata": {},
   "outputs": [
    {
     "name": "stdout",
     "output_type": "stream",
     "text": [
      "Hello world\n",
      "4\n",
      "the time is 11\n"
     ]
    }
   ],
   "source": [
    "print(\"Hello world\")\n",
    "print(4)\n",
    "print(\"the time is \" + str(11))"
   ]
  },
  {
   "cell_type": "markdown",
   "metadata": {},
   "source": [
    "Để sử dụng một thư viện cài sẵn trong Python, ta sử dụng câu lệnh import + tên thư viện\n",
    "\n",
    "Ví dụ:"
   ]
  },
  {
   "cell_type": "code",
   "execution_count": 1,
   "metadata": {},
   "outputs": [],
   "source": [
    "import os"
   ]
  },
  {
   "cell_type": "markdown",
   "metadata": {},
   "source": [
    "## Các phép so sánh và các phép toán"
   ]
  },
  {
   "cell_type": "markdown",
   "metadata": {},
   "source": [
    "### Phép toán số học"
   ]
  },
  {
   "cell_type": "markdown",
   "metadata": {},
   "source": [
    "Các phép tóan trong python là:\n",
    "+ \tCộng\tx + y\t\n",
    "+ \tTrừ\t    x - y\t\n",
    "+ \tNhân\tx * y\t\n",
    "+ \tChia\tx / y\t\n",
    "+ \tChia dư\tx % y\t\n",
    "+ \tMũ\tx ** y\t\n",
    "+   Chia lấy phần nguyên\tx // y"
   ]
  },
  {
   "cell_type": "code",
   "execution_count": 5,
   "metadata": {},
   "outputs": [
    {
     "name": "stdout",
     "output_type": "stream",
     "text": [
      "34\n",
      "26\n",
      "120\n",
      "7\n",
      "810000\n",
      "2\n",
      "7\n"
     ]
    }
   ],
   "source": [
    "x = 30\n",
    "y = 4\n",
    "\n",
    "print(x+y)\n",
    "print(x-y)\n",
    "print(x*y)\n",
    "print(x/y)\n",
    "print(x**y)\n",
    "print(x%y)\n",
    "print(x//y)"
   ]
  },
  {
   "cell_type": "markdown",
   "metadata": {},
   "source": [
    "### Phép toán bit"
   ]
  },
  {
   "cell_type": "markdown",
   "metadata": {},
   "source": [
    "+ & \tPhép and bit\n",
    "+ |\tPhép or bit\n",
    "+ ^\tPhép xor\n",
    "+ ~ \tPhép đảo bit\n",
    "+ << x\tDịch trái\n",
    "+ x >>\tDịch phải \n",
    "\n",
    "*Để in được số số byte, ta cần dùng lênh bin(x)*\n",
    "\n",
    "Đọc thêm: https://o7planning.org/vi/12281/cac-toan-tu-bitwise"
   ]
  },
  {
   "cell_type": "code",
   "execution_count": 6,
   "metadata": {},
   "outputs": [
    {
     "name": "stdout",
     "output_type": "stream",
     "text": [
      "0b100\n",
      "4\n",
      "15\n",
      "11\n",
      "-13\n",
      "3\n",
      "48\n"
     ]
    }
   ],
   "source": [
    "x = 0b0111\n",
    "y = 0b1100\n",
    "\n",
    "print(bin(x & y))\n",
    "print(x & y)\n",
    "print(x | y)\n",
    "print(x ^ y)\n",
    "print(~y)\n",
    "print(x>>1)\n",
    "print(y<<2)"
   ]
  },
  {
   "cell_type": "markdown",
   "metadata": {},
   "source": [
    "### Phép gán"
   ]
  },
  {
   "cell_type": "markdown",
   "metadata": {},
   "source": [
    "Phép gán:\n",
    "+\tx = 5\t  Gán x = 5\n",
    "+\tx += 3\t  Gán x = x + 3\t\n",
    "+\tx -= 3\t  Gán x = x - 3\t\n",
    "+\tx *= 3\t  Gán x = x * 3\t\n",
    "+\tx /= 3\t  Gán x = x / 3\t\n",
    "+\tx %= 3\t  Gán x = x % 3\t\n",
    "+\tx //= 3\t  Gán x = x // 3\t\n",
    "+\tx ** = 3  Gán x = x ** 3\t\n",
    "+\tx &= 3\t  Gán x = x & 3     #phép and bitwise\n",
    "+\tx |= 3\t  Gán x = x | 3     #phép or bitwise\t\n",
    "+\tx ^= 3\t  Gán x = x ^ 3     #phép xor bitwise\t\n",
    "+\tx >>= 3\t  Gán x = x >> 3    #phép dịch phải 3 bit\n",
    "+\tx <<= 3\t  Gán x = x << 3    #phép dịch trái 3 bit\n",
    "\n",
    "\n",
    "*Mấy ví dụ này tự thử :3 mình lười quá*"
   ]
  },
  {
   "cell_type": "markdown",
   "metadata": {},
   "source": [
    "### Phép so sánh"
   ]
  },
  {
   "cell_type": "markdown",
   "metadata": {},
   "source": [
    "Phép so sánh: Các phép so sánh này trả về kiểu bool, và được sử dụng trong các câu lệnh cấu trúc if else, while,...\n",
    "\n",
    "+ ==\tEqual\tx == y                       Trả Về True nếu bằng nhau, False ngược lại\n",
    "+ !=\tNot equal\tx != y\t                 Trả Về True nếu khác nhau\n",
    "+ >\t    Greater than\tx > y\t             Trả Về True nếu x>y\n",
    "+ <\t    Less than\tx < y\t       \n",
    "+ >=\tGreater than or equal to\tx >= y\t Trả Về True nếu x lớn hơn hoặc bằng y\n",
    "+ <=\tLess than or equal to\tx <= y"
   ]
  },
  {
   "cell_type": "code",
   "execution_count": 7,
   "metadata": {},
   "outputs": [
    {
     "name": "stdout",
     "output_type": "stream",
     "text": [
      "False\n",
      "True\n",
      "False\n",
      "False\n"
     ]
    }
   ],
   "source": [
    "x = 3 \n",
    "y = 4\n",
    "print(x == y)\n",
    "print(x != y)\n",
    "print(x > y)\n",
    "print(x >= y)"
   ]
  },
  {
   "cell_type": "markdown",
   "metadata": {},
   "source": [
    "### Phép logic"
   ]
  },
  {
   "cell_type": "markdown",
   "metadata": {},
   "source": [
    "and: Ví dụ x < 5 and  x < 10 trả về True khi cả 2 vế của câu lệnh đều đúng\n",
    "or:\tx < 5 or x < 4 Trả về True khi 1 trong 2 vế đúng\n",
    "not: not(x < 5 and x < 10): nếu câu lệnh bên trong not đúng thì trả về False và ngược lại"
   ]
  },
  {
   "cell_type": "code",
   "execution_count": 8,
   "metadata": {},
   "outputs": [
    {
     "name": "stdout",
     "output_type": "stream",
     "text": [
      "True\n",
      "False\n",
      "True\n"
     ]
    }
   ],
   "source": [
    "x = 6\n",
    "print(x > 5 and  x < 10)\n",
    "print(x < 5 or x < 4)\n",
    "print(not(x < 5 and x < 10))"
   ]
  },
  {
   "cell_type": "markdown",
   "metadata": {},
   "source": [
    "### Phép kiểm tra phần tử có thuộc không"
   ]
  },
  {
   "cell_type": "markdown",
   "metadata": {},
   "source": [
    "in: Trả về true nếu x thuộc y \n",
    "\n",
    "Ví dụ:"
   ]
  },
  {
   "cell_type": "code",
   "execution_count": 9,
   "metadata": {},
   "outputs": [
    {
     "name": "stdout",
     "output_type": "stream",
     "text": [
      "True\n"
     ]
    }
   ],
   "source": [
    "a = [\"mèo\",\"chó\",2,3,4]\n",
    "print(\"mèo\" in a)"
   ]
  },
  {
   "cell_type": "markdown",
   "metadata": {},
   "source": [
    "## Các kiểu dữ liệu Python"
   ]
  },
  {
   "cell_type": "markdown",
   "metadata": {},
   "source": [
    "Các kiểu dữ liệu của Python là\n",
    " + Bool: Kiểu logic Boolean\n",
    " + Number: có thể là int, float, complex \n",
    " + String: là các chuỗi, được đánh dấu bằng dấu \" \"\n",
    " + List: Thay thế cho array trong các ngôn ngữ khác, được đánh dấu bằng dấu []\n",
    " + Tuple: Kiểu tập dữ liệu, khác List ở chỗ  được đánh dấu bằng dấu () \n",
    " + Dict: Kiểu dữ liệu có từ khóa truy cập vào dữ liệu, có thể hiểu như cách json hoạt động"
   ]
  },
  {
   "cell_type": "markdown",
   "metadata": {},
   "source": [
    "### Kiểu bool"
   ]
  },
  {
   "cell_type": "markdown",
   "metadata": {},
   "source": [
    "Kiểu bool có 2 giá trị là True và False"
   ]
  },
  {
   "cell_type": "code",
   "execution_count": 10,
   "metadata": {},
   "outputs": [
    {
     "name": "stdout",
     "output_type": "stream",
     "text": [
      "True\n"
     ]
    }
   ],
   "source": [
    "x = 1\n",
    "y = 2\n",
    "a = x < y\n",
    "print(a)"
   ]
  },
  {
   "cell_type": "markdown",
   "metadata": {},
   "source": [
    "### Kiểu Number"
   ]
  },
  {
   "cell_type": "code",
   "execution_count": 11,
   "metadata": {},
   "outputs": [
    {
     "name": "stdout",
     "output_type": "stream",
     "text": [
      "12\n",
      "1.231134\n",
      "9.322e-36j\n"
     ]
    }
   ],
   "source": [
    "a = 12\n",
    "b = 1.231134\n",
    "c = 9.322e-36j\n",
    "\n",
    "print(a)\n",
    "print(b)\n",
    "print(c)"
   ]
  },
  {
   "cell_type": "markdown",
   "metadata": {},
   "source": [
    "Phép toán trên kiểu number:"
   ]
  },
  {
   "cell_type": "code",
   "execution_count": 12,
   "metadata": {},
   "outputs": [
    {
     "name": "stdout",
     "output_type": "stream",
     "text": [
      "13.231134\n",
      "-10.768866\n",
      "14.773608\n",
      "0.1025945\n"
     ]
    }
   ],
   "source": [
    "print(a+b)\n",
    "print(b-a)\n",
    "print(a*b)\n",
    "print(b/a)"
   ]
  },
  {
   "cell_type": "code",
   "execution_count": 13,
   "metadata": {},
   "outputs": [
    {
     "name": "stdout",
     "output_type": "stream",
     "text": [
      "(12+9.322e-36j)\n",
      "(1.231134-9.322e-36j)\n",
      "1.11864e-34j\n",
      "-1.32067582064e+35j\n"
     ]
    }
   ],
   "source": [
    "print(a+c)\n",
    "print(b-c)\n",
    "print(a*c)\n",
    "print(b/c)"
   ]
  },
  {
   "cell_type": "markdown",
   "metadata": {},
   "source": [
    "### Kiểu list"
   ]
  },
  {
   "attachments": {
    "image.png": {
     "image/png": "[encoded data removed]"
    }
   },
   "cell_type": "markdown",
   "metadata": {},
   "source": [
    "Kiểu list là kiểu tập hợp các phần tử, có các tính chất gần giống với array của C, và có thể chứa các kiểu dữ liệu khác nhau:\n",
    "Kiểu list có thể được truy cập bằng index như trong C và ngoài ra còn có index âm \n",
    "![image.png](attachment:image.png)\n",
    "Nguồn ảnh: https://www.programiz.com/python-programming/list"
   ]
  },
  {
   "cell_type": "code",
   "execution_count": 14,
   "metadata": {},
   "outputs": [
    {
     "name": "stdout",
     "output_type": "stream",
     "text": [
      "['abcd', 786, 2.23, 'john', 70.2]\n",
      "abcd\n",
      "[786, 2.23]\n",
      "[2.23, 'john', 70.2]\n",
      "[123, 'john', 123, 'john']\n",
      "['abcd', 786, 2.23, 'john', 70.2, 123, 'john']\n",
      "5\n"
     ]
    }
   ],
   "source": [
    "list = [ 'abcd', 786 , 2.23, 'john', 70.2 ]\n",
    "tinylist = [123, 'john']\n",
    "\n",
    "print (list)          # In tất cả list\n",
    "print (list[0])       # In một phần tử của list\n",
    "print (list[1:3])     # In phần tử thứ 1 đến 3 của list\n",
    "print (list[2:])      # In phần tử từ thứ 2 đến hết list\n",
    "print (tinylist * 2)  # Nhân đôi list\n",
    "print (list + tinylist) # Gộp list\n",
    "print (len(list))     #Lấy chiều dài list"
   ]
  },
  {
   "cell_type": "markdown",
   "metadata": {},
   "source": [
    "*Lưu ý: lệnh len(value) có thể tìm được chiều dài của chuỗi cũng như list*"
   ]
  },
  {
   "cell_type": "code",
   "execution_count": 15,
   "metadata": {},
   "outputs": [
    {
     "name": "stdout",
     "output_type": "stream",
     "text": [
      "0\n",
      "11\n"
     ]
    }
   ],
   "source": [
    "l = []\n",
    "s = \"hello world\"\n",
    "print(len(l))\n",
    "print(len(s))"
   ]
  },
  {
   "cell_type": "markdown",
   "metadata": {},
   "source": [
    "Để thay đổi phần tử vào list ta có các cách sau:"
   ]
  },
  {
   "cell_type": "markdown",
   "metadata": {},
   "source": [
    "Thay đổi giá trị ở vị trí thứ [i]:"
   ]
  },
  {
   "cell_type": "code",
   "execution_count": 16,
   "metadata": {},
   "outputs": [
    {
     "name": "stdout",
     "output_type": "stream",
     "text": [
      "[1, 2, 9, 3]\n"
     ]
    }
   ],
   "source": [
    "l = [1,2,2,3]\n",
    "l[2] = 9\n",
    "print(l)"
   ]
  },
  {
   "cell_type": "markdown",
   "metadata": {},
   "source": [
    "Lệnh append(value) sẽ chèn phần tử value vào cuối list"
   ]
  },
  {
   "cell_type": "code",
   "execution_count": 17,
   "metadata": {},
   "outputs": [
    {
     "name": "stdout",
     "output_type": "stream",
     "text": [
      "[1, 2, 2, 3, 2]\n"
     ]
    }
   ],
   "source": [
    "l = [1,2,2,3]\n",
    "l.append(2) #sử dụng lệnh append\n",
    "print(l)"
   ]
  },
  {
   "cell_type": "markdown",
   "metadata": {},
   "source": [
    "Lệnh insert(pos, value) sẽ chèn phần tử value vào vị trí pos trong list"
   ]
  },
  {
   "cell_type": "code",
   "execution_count": 18,
   "metadata": {},
   "outputs": [
    {
     "name": "stdout",
     "output_type": "stream",
     "text": [
      "[1, 5, 2, 2, 3, 2]\n"
     ]
    }
   ],
   "source": [
    "l.insert(1,5) #sử dụng lệnh insert\n",
    "print(l)"
   ]
  },
  {
   "cell_type": "markdown",
   "metadata": {},
   "source": [
    "Lệnh del để xóa phần tử list, del là descontuctor của Python (descontuctor là một khái niệm trong OOP), vì các kiểu dữ liệu Python đều là Object nên ta có thể dùng descontructor để xóa chúng. Các \"lệnh\" mà mình có nhắc đến trong OOP là method, tuy nhiên vì chưa đi sâu nên ta vẫn gọi là \"lệnh\"."
   ]
  },
  {
   "cell_type": "code",
   "execution_count": 19,
   "metadata": {},
   "outputs": [
    {
     "name": "stdout",
     "output_type": "stream",
     "text": [
      "[1, 5, 2, 2, 3, 2]\n",
      "[5, 2, 2, 3, 2]\n"
     ]
    }
   ],
   "source": [
    "print(l) #in l lúc đầu\n",
    "del l[0]\n",
    "print(l) # l sau khi bị xóa"
   ]
  },
  {
   "cell_type": "markdown",
   "metadata": {},
   "source": [
    "Lệnh pop trong list sẽ bỏ phần tử thứ i trong list ra, mặc định nếu không đưa tham số bào thì hàm sẽ loại bỏ phần tử cuối cùng. Hàm này có ích khi bạn muốn cài stack hoặc queue"
   ]
  },
  {
   "cell_type": "code",
   "execution_count": 20,
   "metadata": {},
   "outputs": [
    {
     "name": "stdout",
     "output_type": "stream",
     "text": [
      "['apple', 'banana']\n",
      "['banana', 'cherry']\n"
     ]
    }
   ],
   "source": [
    "list = [\"apple\", \"banana\", \"cherry\"]\n",
    "list.pop()\n",
    "print(list)\n",
    "\n",
    "list = [\"apple\", \"banana\", \"cherry\"]\n",
    "list.pop(0)\n",
    "print(list)"
   ]
  },
  {
   "cell_type": "markdown",
   "metadata": {},
   "source": [
    "Để sắp xếp list ta sử dụng lệnh sort. Sort sử dụng TimSort có độ phức tạp xấu nhất O(nlogn), là sự kết hợp của MergeSort, và một số thuật toán sort O(n). Các bạn muốn đọc thêm về thuật toán có thể đọc thêm: https://en.wikipedia.org/wiki/Timsort"
   ]
  },
  {
   "cell_type": "code",
   "execution_count": 21,
   "metadata": {},
   "outputs": [
    {
     "name": "stdout",
     "output_type": "stream",
     "text": [
      "[1, 2, 3, 3]\n",
      "[3, 3, 2, 1]\n"
     ]
    }
   ],
   "source": [
    "l = [3,2,1,3]\n",
    "l.sort() #sử dụng lệnh sort\n",
    "print(l)\n",
    "\n",
    "l.sort(reverse=True)\n",
    "print(l)"
   ]
  },
  {
   "cell_type": "markdown",
   "metadata": {},
   "source": [
    "## List Comprehensions"
   ]
  },
  {
   "cell_type": "markdown",
   "metadata": {},
   "source": [
    "Cái này thì mình không biết phải gọi là gì nữa, có lẽ là sinh list từ list đi :3\n",
    "\n",
    "Ví dụ bạn có một list l = [1,4,1,32,4,2,1,4] (hoàn toàn ngẫu nhiên) và bạn muốn tìm tất cả các số <3 thí sao ?\n",
    "\n",
    "Với C các bạn cần có một vòng for là ít, tuy nhiên Python có cách xử lý rất nhanh sau:"
   ]
  },
  {
   "cell_type": "code",
   "execution_count": 22,
   "metadata": {},
   "outputs": [
    {
     "name": "stdout",
     "output_type": "stream",
     "text": [
      "[1, 1, 2, 1]\n"
     ]
    }
   ],
   "source": [
    "l = [1,4,1,32,4,2,1,4] \n",
    "smaller_than_3 = [x for x in l if x<3]\n",
    "print(smaller_than_3)"
   ]
  },
  {
   "cell_type": "markdown",
   "metadata": {},
   "source": [
    "Đây là câu lệnh sinh ra list mới từ một list có sẵn, cú pháp như sau:\n",
    "\n",
    "new_list = [expression(i) for i in old_list if filter(i)]\n",
    "Trong đó:\n",
    "+ expression(i) là biểu thức thực hiện cho thành phần i cảu list cũ thỏa mãn điều kiện của filter(i)\n",
    "+ i là thành phần của list cũ được xét đến\n",
    "+ filter(i) là điều kiện để lọc ra i\n",
    "+ old_list là list ta thực hiện lọc thành phần"
   ]
  },
  {
   "cell_type": "markdown",
   "metadata": {},
   "source": [
    "### Kiểu String"
   ]
  },
  {
   "cell_type": "markdown",
   "metadata": {},
   "source": [
    "Kiểu string được kí hiệu bằng dấu \" \", các phép toán trên kiểu String gồm :"
   ]
  },
  {
   "cell_type": "code",
   "execution_count": 23,
   "metadata": {},
   "outputs": [
    {
     "name": "stdout",
     "output_type": "stream",
     "text": [
      "Hello World!\n",
      "H\n",
      "llo\n",
      "llo World!\n",
      "He\n",
      "Hello World!Hello World!\n",
      "Hello World!TEST\n"
     ]
    }
   ],
   "source": [
    "str = 'Hello World!'\n",
    "\n",
    "print (str)          # In chuỗi\n",
    "print (str[0])       # In kí tự đầu tiên\n",
    "print (str[2:5])     # In kí tự thứ 3 đến thứ 5\n",
    "print (str[2:])      # In kí tự từ thứ 2 trở đi\n",
    "print (str[:2])      # In kí tự từ 0 đến thứ 2\n",
    "print (str * 2)      # Nhân đôi chuỗi\n",
    "print (str + \"TEST\") # Ghép chuỗi"
   ]
  },
  {
   "cell_type": "markdown",
   "metadata": {},
   "source": [
    "Để truy cập vào 1 phần tử trong chuỗi, ta thực hiện giống như trong C: tên[số thứ tự phần tử ] trong trường hợp muốn truy cập từ đầu đến kí tự thứ i, có cú pháp tên[:i] dấu : đại diện cho việc lấy hết phần tử cho đến đoạn nào đó. Index âm cũng có thể sử dụng cho String như list"
   ]
  },
  {
   "cell_type": "markdown",
   "metadata": {},
   "source": [
    "### Ép kiểu (casting)"
   ]
  },
  {
   "cell_type": "markdown",
   "metadata": {},
   "source": [
    "Python cũng giống C, cho phép ép kiểu, để sử dụng ép kiểu ta có các lệnh sau:\n",
    "+ int(value) sẽ ép kiểu sang int\n",
    "+ float(value) sẽ ép kiểu sang float\n",
    "+ str(value) sẽ ép kiểu sang string\n",
    "\n",
    "Hãy chạy từng câu lệnh sau và đưa ra nhận xét:"
   ]
  },
  {
   "cell_type": "code",
   "execution_count": 24,
   "metadata": {},
   "outputs": [],
   "source": [
    "x = 3\n",
    "y = 2.4\n",
    "z = \"a\""
   ]
  },
  {
   "cell_type": "code",
   "execution_count": 25,
   "metadata": {},
   "outputs": [
    {
     "name": "stdout",
     "output_type": "stream",
     "text": [
      "2\n"
     ]
    }
   ],
   "source": [
    "print(int(y))"
   ]
  },
  {
   "cell_type": "code",
   "execution_count": 26,
   "metadata": {},
   "outputs": [
    {
     "name": "stdout",
     "output_type": "stream",
     "text": [
      "3.0\n"
     ]
    }
   ],
   "source": [
    "print(float(x))"
   ]
  },
  {
   "cell_type": "code",
   "execution_count": 27,
   "metadata": {},
   "outputs": [
    {
     "ename": "ValueError",
     "evalue": "invalid literal for int() with base 10: 'a'",
     "output_type": "error",
     "traceback": [
      "\u001b[0;31m---------------------------------------------------------------------------\u001b[0m",
      "\u001b[0;31mValueError\u001b[0m                                Traceback (most recent call last)",
      "\u001b[0;32m<ipython-input-27-caf6459d7a1e>\u001b[0m in \u001b[0;36m<module>\u001b[0;34m()\u001b[0m\n\u001b[0;32m----> 1\u001b[0;31m \u001b[0;32mprint\u001b[0m\u001b[0;34m(\u001b[0m\u001b[0mint\u001b[0m\u001b[0;34m(\u001b[0m\u001b[0mz\u001b[0m\u001b[0;34m)\u001b[0m\u001b[0;34m)\u001b[0m\u001b[0;34m\u001b[0m\u001b[0m\n\u001b[0m",
      "\u001b[0;31mValueError\u001b[0m: invalid literal for int() with base 10: 'a'"
     ]
    }
   ],
   "source": [
    "print(int(z))"
   ]
  },
  {
   "cell_type": "markdown",
   "metadata": {},
   "source": [
    "Như các bạn thấy, ép kiểu có thể rất nguy hiểm nếu ta không hiểu rõ chuyện gì đang xảy ra.\n",
    "\n",
    "Để biết biến bạn đang sử dụng là kiểu gì, ta có thể sử dụng câu lệnh type(variable)"
   ]
  },
  {
   "cell_type": "code",
   "execution_count": 28,
   "metadata": {},
   "outputs": [
    {
     "data": {
      "text/plain": [
       "int"
      ]
     },
     "execution_count": 28,
     "metadata": {},
     "output_type": "execute_result"
    }
   ],
   "source": [
    "type(x)"
   ]
  },
  {
   "cell_type": "code",
   "execution_count": 29,
   "metadata": {},
   "outputs": [
    {
     "data": {
      "text/plain": [
       "float"
      ]
     },
     "execution_count": 29,
     "metadata": {},
     "output_type": "execute_result"
    }
   ],
   "source": [
    "type(y)"
   ]
  },
  {
   "cell_type": "code",
   "execution_count": 30,
   "metadata": {},
   "outputs": [
    {
     "data": {
      "text/plain": [
       "str"
      ]
     },
     "execution_count": 30,
     "metadata": {},
     "output_type": "execute_result"
    }
   ],
   "source": [
    "type(z)"
   ]
  },
  {
   "cell_type": "markdown",
   "metadata": {},
   "source": [
    "### Kiểu Tuple"
   ]
  },
  {
   "cell_type": "markdown",
   "metadata": {},
   "source": [
    "Kiểu Tuple là kiểu tập hợp giống list, tuy nhiên không đổi thứ tự được và không *thể thay đổi* kiểu Tuple cũng có thể truy cập bằng Index và Index âm"
   ]
  },
  {
   "cell_type": "code",
   "execution_count": 31,
   "metadata": {},
   "outputs": [
    {
     "name": "stdout",
     "output_type": "stream",
     "text": [
      "('apple', 'banana', 'cherry')\n"
     ]
    }
   ],
   "source": [
    "thistuple = (\"apple\", \"banana\", \"cherry\")\n",
    "print(thistuple)"
   ]
  },
  {
   "cell_type": "code",
   "execution_count": 32,
   "metadata": {},
   "outputs": [
    {
     "name": "stdout",
     "output_type": "stream",
     "text": [
      "('orange', 'kiwi', 'melon')\n"
     ]
    }
   ],
   "source": [
    "thistuple = (\"apple\", \"banana\", \"cherry\", \"orange\", \"kiwi\", \"melon\", \"mango\")\n",
    "print(thistuple[-4:-1])"
   ]
  },
  {
   "cell_type": "markdown",
   "metadata": {},
   "source": [
    "## Kiểu Dict"
   ]
  },
  {
   "attachments": {
    "image.png": {
     "image/png": "[encoded data removed]"
    }
   },
   "cell_type": "markdown",
   "metadata": {},
   "source": [
    "Kiểu dict là kiểu tập hợp có thể thay đổi. Kiểu dict giống với kiểu dữ liệu Json: có key và value ứng với key đó.\n",
    "Ví dụ về Json: \n",
    "![image.png](attachment:image.png)\n",
    "Nguồn ảnh: Google\n",
    "Json được sử dụng rất nhiều trong các giao thức mạng và truyền tin"
   ]
  },
  {
   "cell_type": "code",
   "execution_count": 33,
   "metadata": {},
   "outputs": [
    {
     "name": "stdout",
     "output_type": "stream",
     "text": [
      "{'brand': 'Ford', 'model': 'Mustang', 'year': 1964}\n"
     ]
    }
   ],
   "source": [
    "xe_dict = {\n",
    "  \"brand\": \"Ford\",\n",
    "  \"model\": \"Mustang\",\n",
    "  \"year\": 1964\n",
    "}\n",
    "print(xe_dict)"
   ]
  },
  {
   "cell_type": "markdown",
   "metadata": {},
   "source": [
    "Để truy cập kiểu dict, ta có thể gọi theo key bằng các sử dụng lệnh get hoặc gọi theo kiểu index:"
   ]
  },
  {
   "cell_type": "code",
   "execution_count": 34,
   "metadata": {},
   "outputs": [
    {
     "data": {
      "text/plain": [
       "'Ford'"
      ]
     },
     "execution_count": 34,
     "metadata": {},
     "output_type": "execute_result"
    }
   ],
   "source": [
    "xe_dict.get(\"brand\")"
   ]
  },
  {
   "cell_type": "code",
   "execution_count": 35,
   "metadata": {},
   "outputs": [
    {
     "data": {
      "text/plain": [
       "'Ford'"
      ]
     },
     "execution_count": 35,
     "metadata": {},
     "output_type": "execute_result"
    }
   ],
   "source": [
    "xe_dict[\"brand\"]"
   ]
  },
  {
   "cell_type": "markdown",
   "metadata": {},
   "source": [
    "Để in cả key và object của dict ta dùng lệnh items():"
   ]
  },
  {
   "cell_type": "code",
   "execution_count": 36,
   "metadata": {},
   "outputs": [
    {
     "data": {
      "text/plain": [
       "[('brand', 'Ford'), ('model', 'Mustang'), ('year', 1964)]"
      ]
     },
     "execution_count": 36,
     "metadata": {},
     "output_type": "execute_result"
    }
   ],
   "source": [
    "xe_dict.items()"
   ]
  },
  {
   "cell_type": "markdown",
   "metadata": {},
   "source": [
    "Kiểu dict cũng có các lệnh giống như list, các bạn có thể tham khảo thêm ở https://www.w3schools.com/python/python_dictionaries.asp"
   ]
  },
  {
   "cell_type": "markdown",
   "metadata": {},
   "source": [
    "## Các câu lệnh cấu trúc"
   ]
  },
  {
   "cell_type": "markdown",
   "metadata": {},
   "source": [
    "## Lệnh if ... else"
   ]
  },
  {
   "cell_type": "markdown",
   "metadata": {},
   "source": [
    "Như đã nói, cấu trúc câu lệnh if... else được ngăn cách nhau bằng các phép tab hoặc 4 space, cấu trúc như lệnh bên dưới:"
   ]
  },
  {
   "cell_type": "code",
   "execution_count": 37,
   "metadata": {},
   "outputs": [
    {
     "name": "stdout",
     "output_type": "stream",
     "text": [
      "a > b\n"
     ]
    }
   ],
   "source": [
    "a = 10\n",
    "b = 1\n",
    "if a < b:\n",
    "    print(\"a < b\")\n",
    "else:\n",
    "    print(\"a > b\")"
   ]
  },
  {
   "cell_type": "markdown",
   "metadata": {},
   "source": [
    "Câu lệnh if sẽ có một biểu thức so sánh: có thể là a==b, a!=b,...\n",
    "\n",
    "Các câu lệnh trong điều kiện sẽ được viết thụt vào 4 space hoặc 1 Tab như hình đưới, nhớ đó ta có thể biết đoạn kết của câu lệnh"
   ]
  },
  {
   "cell_type": "code",
   "execution_count": 38,
   "metadata": {},
   "outputs": [
    {
     "name": "stdout",
     "output_type": "stream",
     "text": [
      "a < b\n",
      "Python thật ez\n"
     ]
    }
   ],
   "source": [
    "a = 10\n",
    "b = 1\n",
    "if a > b:\n",
    "    print(\"a < b\")\n",
    "    print(\"Python thật ez\")\n",
    "else:\n",
    "    print(\"a > b\")"
   ]
  },
  {
   "cell_type": "markdown",
   "metadata": {},
   "source": [
    "### Câu lệnh elif"
   ]
  },
  {
   "cell_type": "markdown",
   "metadata": {},
   "source": [
    "Câu này có nghĩa là nếu điều kiện trong if không đúng thì kiểm tra câu này:"
   ]
  },
  {
   "cell_type": "code",
   "execution_count": 39,
   "metadata": {},
   "outputs": [
    {
     "name": "stdout",
     "output_type": "stream",
     "text": [
      "a and b are equal\n"
     ]
    }
   ],
   "source": [
    "a = 33\n",
    "b = 33\n",
    "if b > a:\n",
    "    print(\"b is greater than a\")\n",
    "elif a == b:\n",
    "    print(\"a and b are equal\")"
   ]
  },
  {
   "cell_type": "markdown",
   "metadata": {},
   "source": [
    "### If lồng nhau"
   ]
  },
  {
   "cell_type": "code",
   "execution_count": 40,
   "metadata": {},
   "outputs": [
    {
     "name": "stdout",
     "output_type": "stream",
     "text": [
      "a is greater than b\n"
     ]
    }
   ],
   "source": [
    "a = 34\n",
    "b = 33\n",
    "if b > a:\n",
    "    print(\"b is greater than a\")\n",
    "else:\n",
    "    if a > b:\n",
    "        print(\"a is greater than b\")"
   ]
  },
  {
   "cell_type": "markdown",
   "metadata": {},
   "source": [
    "# Bài tập 1:"
   ]
  },
  {
   "cell_type": "markdown",
   "metadata": {},
   "source": [
    "Cho biết hàm căn của Python và hàm input dữ liệu như sau:"
   ]
  },
  {
   "cell_type": "code",
   "execution_count": 41,
   "metadata": {},
   "outputs": [
    {
     "data": {
      "text/plain": [
       "2.0"
      ]
     },
     "execution_count": 41,
     "metadata": {},
     "output_type": "execute_result"
    }
   ],
   "source": [
    "from math import sqrt\n",
    "sqrt(4)"
   ]
  },
  {
   "cell_type": "code",
   "execution_count": 42,
   "metadata": {},
   "outputs": [
    {
     "name": "stdout",
     "output_type": "stream",
     "text": [
      "5\n",
      "5\n"
     ]
    }
   ],
   "source": [
    "x = input()\n",
    "print(x)"
   ]
  },
  {
   "cell_type": "markdown",
   "metadata": {},
   "source": [
    "Viết một đoạn code giải phương trình bậc 2 với 3 biến số a,b,c nhập từ bàn phím."
   ]
  },
  {
   "cell_type": "code",
   "execution_count": 43,
   "metadata": {},
   "outputs": [],
   "source": [
    "                                           ### Làm bài ở đây ###\n",
    "\n",
    "\n",
    "\n",
    "\n",
    "\n",
    "\n",
    "\n",
    "\n",
    "\n",
    "\n"
   ]
  },
  {
   "cell_type": "markdown",
   "metadata": {},
   "source": [
    "## Lệnh for ... loop:"
   ]
  },
  {
   "cell_type": "markdown",
   "metadata": {},
   "source": [
    "Lệnh for của Python khá là khác với C, for cần phải phải quét qua một list, dict, tuple... hoặc range nào đó, nhiều khi for Python rất tiện, nhưng nhiều khi lại khá khó chịu:"
   ]
  },
  {
   "cell_type": "markdown",
   "metadata": {},
   "source": [
    "### Quét qua list"
   ]
  },
  {
   "cell_type": "code",
   "execution_count": 44,
   "metadata": {},
   "outputs": [
    {
     "name": "stdout",
     "output_type": "stream",
     "text": [
      "apple\n",
      "banana\n",
      "cherry\n"
     ]
    }
   ],
   "source": [
    "fruits = [\"apple\", \"banana\", \"cherry\"]\n",
    "for x in fruits:\n",
    "    print(x)"
   ]
  },
  {
   "cell_type": "markdown",
   "metadata": {},
   "source": [
    "### Quét qua một khoảng (range):"
   ]
  },
  {
   "cell_type": "code",
   "execution_count": 45,
   "metadata": {},
   "outputs": [
    {
     "name": "stdout",
     "output_type": "stream",
     "text": [
      "0\n",
      "1\n",
      "2\n",
      "3\n",
      "4\n",
      "5\n"
     ]
    }
   ],
   "source": [
    "for x in range(6):\n",
    "    print(x)"
   ]
  },
  {
   "cell_type": "markdown",
   "metadata": {},
   "source": [
    "Quét qua range trong một khoảng range(start, end)"
   ]
  },
  {
   "cell_type": "code",
   "execution_count": 46,
   "metadata": {},
   "outputs": [
    {
     "name": "stdout",
     "output_type": "stream",
     "text": [
      "2\n",
      "3\n",
      "4\n",
      "5\n"
     ]
    }
   ],
   "source": [
    "for x in range(2,6):\n",
    "    print(x)"
   ]
  },
  {
   "cell_type": "markdown",
   "metadata": {},
   "source": [
    "Quét qua range trong một khoảng và có bước nhảy: range(start, end, step)"
   ]
  },
  {
   "cell_type": "code",
   "execution_count": 47,
   "metadata": {},
   "outputs": [
    {
     "name": "stdout",
     "output_type": "stream",
     "text": [
      "0\n",
      "2\n",
      "4\n",
      "6\n",
      "8\n"
     ]
    }
   ],
   "source": [
    "for x in range(0,9,2):\n",
    "    print(x)"
   ]
  },
  {
   "cell_type": "markdown",
   "metadata": {},
   "source": [
    "### For lồng nhau"
   ]
  },
  {
   "cell_type": "markdown",
   "metadata": {},
   "source": [
    "Đây là code vẽ một hình vuông 3*3 bằng các dấu sao và for lồng nhau."
   ]
  },
  {
   "cell_type": "code",
   "execution_count": 48,
   "metadata": {},
   "outputs": [
    {
     "name": "stdout",
     "output_type": "stream",
     "text": [
      "***\n",
      "***\n",
      "***\n"
     ]
    }
   ],
   "source": [
    "for x in range(3):\n",
    "    a = \"\"\n",
    "    for y in range(3):\n",
    "        a += \"*\"\n",
    "    print(a)"
   ]
  },
  {
   "cell_type": "markdown",
   "metadata": {},
   "source": [
    "### Enumerate"
   ]
  },
  {
   "cell_type": "markdown",
   "metadata": {},
   "source": [
    "Enumerate là câu lệnh cho phép trả về cả index và giá trị của một cấu trúc có thể lặp được (iterable) và rất hữu dụng với vòng lặp for\n",
    "\n",
    "Ví dụ: Copy một list sang 1 list có index là index của list cũ *2:"
   ]
  },
  {
   "cell_type": "code",
   "execution_count": 49,
   "metadata": {},
   "outputs": [
    {
     "name": "stdout",
     "output_type": "stream",
     "text": [
      "[1, None, 2, None, 3, None]\n"
     ]
    }
   ],
   "source": [
    "l1 = [1,2,3]\n",
    "l2 = [None] * (len(l1)*2)\n",
    "\n",
    "for i,x in enumerate(l1):\n",
    "    l2[2*i] = x\n",
    "print(l2)"
   ]
  },
  {
   "cell_type": "markdown",
   "metadata": {},
   "source": [
    "## Lệnh Break"
   ]
  },
  {
   "cell_type": "markdown",
   "metadata": {},
   "source": [
    "Lệnh break dùng để dừng vòng lặp lại"
   ]
  },
  {
   "cell_type": "code",
   "execution_count": 50,
   "metadata": {},
   "outputs": [
    {
     "name": "stdout",
     "output_type": "stream",
     "text": [
      "apple\n"
     ]
    }
   ],
   "source": [
    "fruits = [\"apple\", \"banana\", \"cherry\"]\n",
    "for x in fruits:\n",
    "    if x == \"banana\":\n",
    "        break\n",
    "    print(x)"
   ]
  },
  {
   "cell_type": "markdown",
   "metadata": {},
   "source": [
    "# Bài tập 2:"
   ]
  },
  {
   "cell_type": "markdown",
   "metadata": {},
   "source": [
    "Viết đoạn chương trình nhập số nguyên x vào và kiểm tra nó có phải số nguyên tố không"
   ]
  },
  {
   "cell_type": "code",
   "execution_count": 51,
   "metadata": {},
   "outputs": [],
   "source": [
    "                                         ### Làm bài ở đây ###\n",
    "    \n",
    "    \n",
    "    \n",
    "    \n",
    "    \n",
    "    \n",
    "    "
   ]
  },
  {
   "cell_type": "markdown",
   "metadata": {},
   "source": [
    "Viết đoạn chương trình dùng for loop lặp để vẽ hình này:\n",
    "\n",
    "       \"   *\n",
    "          *** \n",
    "         *****\n",
    "        *******\"\n",
    "        "
   ]
  },
  {
   "cell_type": "code",
   "execution_count": 52,
   "metadata": {},
   "outputs": [],
   "source": [
    "                                           ### Làm bài ở đây ###\n",
    "    \n",
    "    \n",
    "    \n",
    "    \n",
    "    "
   ]
  },
  {
   "cell_type": "markdown",
   "metadata": {},
   "source": [
    "## Lệnh while loop"
   ]
  },
  {
   "cell_type": "markdown",
   "metadata": {},
   "source": [
    "Nói chung là cũng không có gì nhiều để nói về câu lệnh này, đây là cú pháp và một vài trường hợp sử dụng:"
   ]
  },
  {
   "cell_type": "code",
   "execution_count": 53,
   "metadata": {},
   "outputs": [
    {
     "name": "stdout",
     "output_type": "stream",
     "text": [
      "1\n",
      "2\n",
      "3\n",
      "4\n",
      "5\n"
     ]
    }
   ],
   "source": [
    "i = 1\n",
    "while i < 6:\n",
    "    print(i)\n",
    "    i += 1"
   ]
  },
  {
   "cell_type": "markdown",
   "metadata": {},
   "source": [
    "Câu lệnh while này giống với C hơn là for, có một câu lệnh điều kiện để điều khiển vòng lặp"
   ]
  },
  {
   "cell_type": "code",
   "execution_count": 54,
   "metadata": {},
   "outputs": [
    {
     "name": "stdout",
     "output_type": "stream",
     "text": [
      "1\n",
      "2\n",
      "3\n"
     ]
    }
   ],
   "source": [
    "i = 1\n",
    "while i < 6:\n",
    "    print(i)\n",
    "    if i == 3:\n",
    "        break\n",
    "    i += 1"
   ]
  },
  {
   "cell_type": "markdown",
   "metadata": {},
   "source": [
    "Câu lệnh break với while."
   ]
  },
  {
   "cell_type": "markdown",
   "metadata": {},
   "source": [
    "## Hàm trong Python:"
   ]
  },
  {
   "cell_type": "markdown",
   "metadata": {},
   "source": [
    "Để khai báo hàm ta sử dụng từ khóa def:"
   ]
  },
  {
   "cell_type": "code",
   "execution_count": 55,
   "metadata": {},
   "outputs": [],
   "source": [
    "def my_function():\n",
    "    print(\"Hello from a function\")"
   ]
  },
  {
   "cell_type": "code",
   "execution_count": 56,
   "metadata": {},
   "outputs": [
    {
     "name": "stdout",
     "output_type": "stream",
     "text": [
      "Hello from a function\n"
     ]
    }
   ],
   "source": [
    "my_function()"
   ]
  },
  {
   "cell_type": "markdown",
   "metadata": {},
   "source": [
    "Cũng giống như C, ta cũng có thể đưa thông tin vào trong hàm dưới dạng tham số:"
   ]
  },
  {
   "cell_type": "code",
   "execution_count": 57,
   "metadata": {},
   "outputs": [
    {
     "name": "stdout",
     "output_type": "stream",
     "text": [
      "tên bạn là Tùng\n"
     ]
    }
   ],
   "source": [
    "def my_function(fname):\n",
    "    print(\"tên bạn là \" + fname)\n",
    "\n",
    "my_function(\"Tùng\")"
   ]
  },
  {
   "cell_type": "markdown",
   "metadata": {},
   "source": [
    "Hàm trong Python có thể trả về một giá trị hoặc không trả về giá trị nào:"
   ]
  },
  {
   "cell_type": "code",
   "execution_count": 58,
   "metadata": {},
   "outputs": [
    {
     "name": "stdout",
     "output_type": "stream",
     "text": [
      "3\n"
     ]
    }
   ],
   "source": [
    "def add(a,b):\n",
    "    return a + b\n",
    "\n",
    "print(add(1,2))"
   ]
  },
  {
   "cell_type": "markdown",
   "metadata": {},
   "source": [
    "Và như C, Python cũng có thể đệ quy, chương trình sau tính giai thừa:"
   ]
  },
  {
   "cell_type": "code",
   "execution_count": 59,
   "metadata": {},
   "outputs": [
    {
     "data": {
      "text/plain": [
       "3628800"
      ]
     },
     "execution_count": 59,
     "metadata": {},
     "output_type": "execute_result"
    }
   ],
   "source": [
    "def giai_thua(n):\n",
    "    if n == 1:\n",
    "        return 1\n",
    "    else:\n",
    "        return n*giai_thua(n-1)\n",
    "giai_thua(10)"
   ]
  },
  {
   "cell_type": "markdown",
   "metadata": {},
   "source": [
    "# Bài tập 3: "
   ]
  },
  {
   "cell_type": "markdown",
   "metadata": {},
   "source": [
    "Viết chương trình tính số Fibonacci thứ n biết dẫy Fibonacci có công thức Fn = Fn-1 + Fn-2, F1 = F2 = 1"
   ]
  },
  {
   "cell_type": "code",
   "execution_count": 60,
   "metadata": {},
   "outputs": [],
   "source": [
    "                                         ### Làm bài ở đây ###\n",
    "    \n",
    "    \n",
    "    \n",
    "    \n",
    "    \n",
    "    "
   ]
  },
  {
   "cell_type": "markdown",
   "metadata": {},
   "source": [
    "# Về ngôn ngữ Python và cách viết \"như Python\" (Pythonic)"
   ]
  },
  {
   "attachments": {
    "image.png": {
     "image/png": "[encoded data removed]"
    }
   },
   "cell_type": "markdown",
   "metadata": {},
   "source": [
    "Thực chất mà nói mình không học Python một cách đầy đủ và kĩ lưỡng,nên có thể nhiều điều quan trọng trong Python mình đã bỏ sót, nhưng để nói về một ngôn ngữ lập trình mà khi bạn học, nó không thay đổi tư duy của bạn tức là bạn chưa học chút nào :3 với Python mình nghĩ mình cũng đã thay đổi một chút tư duy khi code bằng Python :3\n",
    "![image.png](attachment:image.png)\n",
    "                                              \n",
    "                                       Khi Python ảnh hưởng bạn quá nặng\n",
    "\n",
    "\n",
    "Ví dụ như những đoạn code \"magic\" sau:"
   ]
  },
  {
   "cell_type": "markdown",
   "metadata": {},
   "source": [
    "Viết chương trình tìm vị trí của một số trong list Python.\n",
    "\n",
    "Hãy thử viết một chương trình như vậy và so sánh với đáp án:"
   ]
  },
  {
   "cell_type": "code",
   "execution_count": 61,
   "metadata": {},
   "outputs": [
    {
     "data": {
      "text/plain": [
       "[6, 7]"
      ]
     },
     "execution_count": 61,
     "metadata": {},
     "output_type": "execute_result"
    }
   ],
   "source": [
    "l = [1,3,4,5,6,7,2,2,3,4]\n",
    "[i for i,x in enumerate(l) if x==2] "
   ]
  },
  {
   "cell_type": "markdown",
   "metadata": {},
   "source": [
    "Các bạn thấy có magic không :)))))))) chỉ một dòng mà ta có thể ở dòng đầu, đó là tìm tất cả các phần tử của l mà phần tử đó >3\n",
    "\n",
    "Còn dòng thứ 2 là tìm vị trí của các phần tử mà = 2\n",
    "\n",
    "Python là một ngôn ngữ lập trình bậc cao và cách tư duy của python thực sự rất khác với các ngôn ngữ khác, điều mà Python muốn tập trung không phải là làm sao để tối ưu hết mức thời gian chạy mà là làm sao cho code thật đẹp, thật ngắn.\n",
    "\n",
    "Một tác dụng phụ của mình khi code Python là tập được tính xếp code ngăn nắp khi chuyển qua C :)))))))))\n",
    "\n",
    "Quả thực mà nói việc master một ngôn ngữ lập trình trong 1 - 2 tháng là việc trên trời :)) có cụ Donald Knuth chắc cũng khó mà thực hiện, khi bạn nghĩ mình học \"xong\" cái ngôn ngữ lập trình nào đó thì,...hmm :3 chờ vài tuần sau, quay lại đọc cái code mình viết là hiểu :))). Tuy nhiên nếu bạn đã thông thạo hết cái notebook này, với mức độ Python cơ bản như này có lẽ cũng tạm ổn để chúng ta bắt đầu học xử lý ảnh. "
   ]
  },
  {
   "cell_type": "markdown",
   "metadata": {},
   "source": [
    "# Bài giải"
   ]
  },
  {
   "cell_type": "code",
   "execution_count": 62,
   "metadata": {},
   "outputs": [
    {
     "name": "stdout",
     "output_type": "stream",
     "text": [
      "1\n",
      "2\n",
      "1\n",
      "('double soulution x=', -1)\n"
     ]
    }
   ],
   "source": [
    "a = input()\n",
    "b = input()\n",
    "c = input()\n",
    "\n",
    "delta = b**2 - 4*a*c\n",
    "if delta > 0:\n",
    "    print(\"x1 = \", (-b - sqrt(delta))/(2*a))\n",
    "    print(\"x2 = \", (-b + sqrt(delta))/(2*a))\n",
    "elif delta == 0:\n",
    "    print(\"double soulution x=\", -b/(2*a))\n",
    "else:\n",
    "    print(\"no solution\")"
   ]
  },
  {
   "cell_type": "code",
   "execution_count": 63,
   "metadata": {},
   "outputs": [
    {
     "name": "stdout",
     "output_type": "stream",
     "text": [
      "       \n",
      "   *   \n",
      "  ***  \n",
      " ***** \n",
      "*******\n"
     ]
    }
   ],
   "source": [
    "size = 7\n",
    "for x in range(size - 2):\n",
    "    a = \"\"\n",
    "    for y in range(size):\n",
    "        if (size//2 - x) < y and y < (size//2 + x):\n",
    "            a += \"*\"\n",
    "        else:\n",
    "            a += \" \"\n",
    "    print(a)"
   ]
  },
  {
   "cell_type": "code",
   "execution_count": 64,
   "metadata": {},
   "outputs": [
    {
     "name": "stdout",
     "output_type": "stream",
     "text": [
      "137\n",
      "prime\n"
     ]
    }
   ],
   "source": [
    "count = 0\n",
    "x = input()\n",
    "for i in range(2,int(sqrt(x)),1):\n",
    "    if (x%i == 0):\n",
    "        print(\"not prime\")\n",
    "        count += 1\n",
    "        break\n",
    "if(count == 0):\n",
    "    print(\"prime\")"
   ]
  },
  {
   "cell_type": "code",
   "execution_count": 65,
   "metadata": {},
   "outputs": [
    {
     "data": {
      "text/plain": [
       "55"
      ]
     },
     "execution_count": 65,
     "metadata": {},
     "output_type": "execute_result"
    }
   ],
   "source": [
    "def fibonacci(n):\n",
    "    if n == 1 or n == 2:\n",
    "        return 1\n",
    "    else:\n",
    "        return fibonacci(n-1) + fibonacci(n-2)\n",
    "fibonacci(10)"
   ]
  },
  {
   "cell_type": "code",
   "execution_count": null,
   "metadata": {},
   "outputs": [],
   "source": []
  }
 ],
 "metadata": {
  "kernelspec": {
   "display_name": "Python 3",
   "language": "python",
   "name": "python3"
  },
  "language_info": {
   "codemirror_mode": {
    "name": "ipython",
    "version": 3
   },
   "file_extension": ".py",
   "mimetype": "text/x-python",
   "name": "python",
   "nbconvert_exporter": "python",
   "pygments_lexer": "ipython3",
   "version": "3.6.9"
  }
 },
 "nbformat": 4,
 "nbformat_minor": 2
}
